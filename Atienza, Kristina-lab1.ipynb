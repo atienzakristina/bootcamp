{
  "nbformat": 4,
  "nbformat_minor": 0,
  "metadata": {
    "colab": {
      "name": "hw of kay 2.ipynb",
      "provenance": []
    },
    "kernelspec": {
      "name": "python3",
      "display_name": "Python 3"
    },
    "language_info": {
      "name": "python"
    }
  },
  "cells": [
    {
      "cell_type": "code",
      "metadata": {
        "id": "3reeJ_0e2Ul8"
      },
      "source": [
        "def dollars_to_pesos(usd):\n",
        "  in_peso = 50 * usd\n",
        "  return str(usd) + \" US dollar(s) =\" + str(in_peso) + \" Philippine Pesos.\"\n"
      ],
      "execution_count": 15,
      "outputs": []
    },
    {
      "cell_type": "code",
      "metadata": {
        "colab": {
          "base_uri": "https://localhost:8080/"
        },
        "id": "LxNpJFr929Wc",
        "outputId": "575ec762-0f7d-4f89-8201-d1bbeaeb1e79"
      },
      "source": [
        "usd = float(input(\"Enter the amount in US Dollars: \"))"
      ],
      "execution_count": 17,
      "outputs": [
        {
          "output_type": "stream",
          "text": [
            "Enter the amount in US Dollars: 4\n"
          ],
          "name": "stdout"
        }
      ]
    },
    {
      "cell_type": "code",
      "metadata": {
        "colab": {
          "base_uri": "https://localhost:8080/",
          "height": 35
        },
        "id": "VeW43pYW3ROA",
        "outputId": "f812d6dc-5c3c-435f-c55a-8c142865e78c"
      },
      "source": [
        "dollars_to_pesos(usd)"
      ],
      "execution_count": 18,
      "outputs": [
        {
          "output_type": "execute_result",
          "data": {
            "application/vnd.google.colaboratory.intrinsic+json": {
              "type": "string"
            },
            "text/plain": [
              "'4.0 US dollar(s) =200.0Philippine Pesos.'"
            ]
          },
          "metadata": {
            "tags": []
          },
          "execution_count": 18
        }
      ]
    },
    {
      "cell_type": "code",
      "metadata": {
        "id": "zUO0_dQr3fIh"
      },
      "source": [
        "def operations(a,b):\n",
        "  print(a+b)\n",
        "  print(a-b)\n",
        "  print(a*b)\n",
        "  print(a//b)\n",
        "  print(a%b)"
      ],
      "execution_count": 24,
      "outputs": []
    },
    {
      "cell_type": "code",
      "metadata": {
        "colab": {
          "base_uri": "https://localhost:8080/"
        },
        "id": "xliMZ95x4Plz",
        "outputId": "94718385-c9a6-43a4-ba91-07ff3685c10c"
      },
      "source": [
        "a = int(input())\n",
        "b = int(input())"
      ],
      "execution_count": 25,
      "outputs": [
        {
          "output_type": "stream",
          "text": [
            "55\n",
            "3\n"
          ],
          "name": "stdout"
        }
      ]
    },
    {
      "cell_type": "code",
      "metadata": {
        "colab": {
          "base_uri": "https://localhost:8080/"
        },
        "id": "lpZxjbyL4Yhf",
        "outputId": "460c2e1f-8e3a-4f36-a970-179edde080ee"
      },
      "source": [
        "operations(a,b)"
      ],
      "execution_count": 26,
      "outputs": [
        {
          "output_type": "stream",
          "text": [
            "58\n",
            "52\n",
            "165\n",
            "18\n",
            "1\n"
          ],
          "name": "stdout"
        }
      ]
    },
    {
      "cell_type": "code",
      "metadata": {
        "id": "KUsh2fXd4hoP"
      },
      "source": [
        "def compute_bmi(kg, m):\n",
        "  bmi = kg / (m ** 2)\n",
        "  return bmi"
      ],
      "execution_count": 31,
      "outputs": []
    },
    {
      "cell_type": "code",
      "metadata": {
        "id": "uBHhlYWL44c4"
      },
      "source": [
        "def convert_cm_to_m(cm):\n",
        "  return cm / 100"
      ],
      "execution_count": 32,
      "outputs": []
    },
    {
      "cell_type": "code",
      "metadata": {
        "colab": {
          "base_uri": "https://localhost:8080/"
        },
        "id": "F0RB_ivZ5TRe",
        "outputId": "e335e85c-b46b-4193-93f2-76e6d3468d10"
      },
      "source": [
        "kg = float(input(\"Enter kg: \"))\n",
        "cm = float(input(\"Enter cm: \"))"
      ],
      "execution_count": 33,
      "outputs": [
        {
          "output_type": "stream",
          "text": [
            "Enter kg: 65\n",
            "Enter cm: 180\n"
          ],
          "name": "stdout"
        }
      ]
    },
    {
      "cell_type": "code",
      "metadata": {
        "colab": {
          "base_uri": "https://localhost:8080/"
        },
        "id": "l5nxVmOK5mTT",
        "outputId": "3d6b503c-0c38-40ee-e40f-86e78becfcb9"
      },
      "source": [
        "bmi = compute_bmi(kg, convert_cm_to_m(cm))\n",
        "print(\"BMI: \" + str(bmi))"
      ],
      "execution_count": 34,
      "outputs": [
        {
          "output_type": "stream",
          "text": [
            "BMI: 20.061728395061728\n"
          ],
          "name": "stdout"
        }
      ]
    }
  ]
}