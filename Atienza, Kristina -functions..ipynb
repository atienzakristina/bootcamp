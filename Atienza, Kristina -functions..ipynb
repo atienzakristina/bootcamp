{
  "nbformat": 4,
  "nbformat_minor": 0,
  "metadata": {
    "kernelspec": {
      "display_name": "Python 3",
      "language": "python",
      "name": "python3"
    },
    "language_info": {
      "codemirror_mode": {
        "name": "ipython",
        "version": 3
      },
      "file_extension": ".py",
      "mimetype": "text/x-python",
      "name": "python",
      "nbconvert_exporter": "python",
      "pygments_lexer": "ipython3",
      "version": "3.7.4"
    },
    "colab": {
      "name": "homework of kay.ipynb",
      "provenance": []
    }
  },
  "cells": [
    {
      "cell_type": "markdown",
      "metadata": {
        "id": "bQu3JJITwP-a"
      },
      "source": [
        "## Playing With Functions"
      ]
    },
    {
      "cell_type": "markdown",
      "metadata": {
        "id": "VbxhymPcwP-c"
      },
      "source": [
        "These exercises are designed to strengthen your grasp on basic programming concepts. Read what is required of you carefully. For example, instructions to **return** values are not the same as those of **printing**.\n",
        "\n",
        "Make sure that cells are in **script mode** (not **interactive mode**).\n"
      ]
    },
    {
      "cell_type": "markdown",
      "metadata": {
        "id": "ZG2MVhKLwP-d"
      },
      "source": [
        "# 1\n",
        "### 1 point\n",
        "\n",
        "Write a function that takes the circumference of a circle as a parameter and **returns** the area of that circle.\n",
        "\n",
        "Note: Assume the value of pi is 3.1416"
      ]
    },
    {
      "cell_type": "code",
      "metadata": {
        "id": "l1bmKA9nwP-d"
      },
      "source": [
        "def area_of_circle(circumference):\n",
        "  pi = 3.1416\n",
        "  radius = circumference / (2 * pi)\n",
        "  return pi * (radius * radius)\n"
      ],
      "execution_count": 3,
      "outputs": []
    },
    {
      "cell_type": "code",
      "metadata": {
        "colab": {
          "base_uri": "https://localhost:8080/"
        },
        "id": "6lbwR0qbxK9X",
        "outputId": "6dfaaeca-c767-41da-b22e-feffe862a888"
      },
      "source": [
        "area_of_circle(31.42)"
      ],
      "execution_count": 4,
      "outputs": [
        {
          "output_type": "execute_result",
          "data": {
            "text/plain": [
              "78.56000127323658"
            ]
          },
          "metadata": {
            "tags": []
          },
          "execution_count": 4
        }
      ]
    },
    {
      "cell_type": "markdown",
      "metadata": {
        "id": "6h1MPWpUwP-e"
      },
      "source": [
        "# 2\n",
        "### 2 points\n",
        "\n",
        "Write a function that takes a 5-character string as a parameter and **returns** the string in reverse order.\n",
        "\n",
        "e.g. reverseString(\"Hello\") -> \"olleH\""
      ]
    },
    {
      "cell_type": "code",
      "metadata": {
        "id": "YddcSUvUxe6r"
      },
      "source": [
        "def reverseString(word):\n",
        "  return word[::-1]"
      ],
      "execution_count": 5,
      "outputs": []
    },
    {
      "cell_type": "code",
      "metadata": {
        "colab": {
          "base_uri": "https://localhost:8080/",
          "height": 35
        },
        "id": "zxZov6kIxxNO",
        "outputId": "495408f0-63ce-49a8-a70e-875e6d2bbe43"
      },
      "source": [
        "reverseString(\"Hello\")"
      ],
      "execution_count": 6,
      "outputs": [
        {
          "output_type": "execute_result",
          "data": {
            "application/vnd.google.colaboratory.intrinsic+json": {
              "type": "string"
            },
            "text/plain": [
              "'olleH'"
            ]
          },
          "metadata": {
            "tags": []
          },
          "execution_count": 6
        }
      ]
    },
    {
      "cell_type": "markdown",
      "metadata": {
        "id": "bhuVDk_YwP-e"
      },
      "source": [
        "# 3\n",
        "### 2 points\n",
        "\n",
        "Write a function that takes a positive integer as input and **returns** the sum of all positive integers smaller than and including the number itself.\n",
        "\n",
        "e.g. backAddition(5) -> 1 + 2 + 3 + 4 + 5 -> 15"
      ]
    },
    {
      "cell_type": "code",
      "metadata": {
        "id": "CODn3KLQwP-f"
      },
      "source": [
        "def backAddition(num):\n",
        "  sum = 0\n",
        "  for i in range(num+1):\n",
        "    sum = sum + i\n",
        "\n",
        "  return sum"
      ],
      "execution_count": 7,
      "outputs": []
    },
    {
      "cell_type": "code",
      "metadata": {
        "colab": {
          "base_uri": "https://localhost:8080/"
        },
        "id": "bHS-dQGQx8n-",
        "outputId": "90ef5630-fc76-4e65-9d47-06ac780348b0"
      },
      "source": [
        "backAddition(5)"
      ],
      "execution_count": 8,
      "outputs": [
        {
          "output_type": "execute_result",
          "data": {
            "text/plain": [
              "15"
            ]
          },
          "metadata": {
            "tags": []
          },
          "execution_count": 8
        }
      ]
    },
    {
      "cell_type": "markdown",
      "metadata": {
        "id": "wCJvCN1TwP-f"
      },
      "source": [
        "# 4\n",
        "### 5 points (all or nothing)\n",
        "\n",
        "The sum of the squares of the first ten natural numbers is,\n",
        "12 + 22 + ... + 102 = 385\n",
        "\n",
        "The square of the sum of the first ten natural numbers is,\n",
        "(1 + 2 + ... + 10)2 = 552 = 3025\n",
        "\n",
        "Hence the difference between the sum of the squares of the first ten natural numbers and the square of the sum is 3025 − 385 = 2640.\n",
        "\n",
        "Find the difference between the sum of the squares of the first one hundred natural numbers and the square of the sum.\n",
        "\n",
        "Show code that generates the answer."
      ]
    },
    {
      "cell_type": "code",
      "metadata": {
        "id": "xhrHmeePx8Ax"
      },
      "source": [
        "def sum_of_square():\n",
        "  sum_sqaure = 0\n",
        "  square_sum = 0\n",
        "  number_of_natural = 100\n",
        "  for i in range(number_of_natural + 1):\n",
        "    sum_sqaure += i * i\n",
        "    square_sum += i\n",
        "\n",
        "  square_sum = square_sum * square_sum\n",
        "\n",
        "  return  square_sum - sum_sqaure"
      ],
      "execution_count": 21,
      "outputs": []
    },
    {
      "cell_type": "code",
      "metadata": {
        "colab": {
          "base_uri": "https://localhost:8080/"
        },
        "id": "J3rObtQRzD6b",
        "outputId": "76995b94-8c06-4645-8c12-517c86a5c9c6"
      },
      "source": [
        "sum_of_square()"
      ],
      "execution_count": 22,
      "outputs": [
        {
          "output_type": "execute_result",
          "data": {
            "text/plain": [
              "25164150"
            ]
          },
          "metadata": {
            "tags": []
          },
          "execution_count": 22
        }
      ]
    },
    {
      "cell_type": "markdown",
      "metadata": {
        "id": "nsQFaqopwP-g"
      },
      "source": [
        "# 5\n",
        "### 5 points \n",
        "\n",
        "Write a function that allows a self-service Point of Sale system to give you the exact change when you pay in cash.\n",
        "\n",
        "The function should accept the number of cents entered by the caller of the function. It then should **display** the denominations of the coins that should be given to the buyer. The change should use as few coins as possible. Assume that the Point of Sale system is loaded with 1 cent, 5 cents, 10 cents, 25 cents and 1 peso coins.\n",
        "\n",
        "Write main program code that accepts the number of cents manually through user input and calls the function written above.\n",
        "\n",
        "**Input:** The program accepts one positive integer, ***cents***, corresponding to the total change to be given by the Point of Sale system.\n",
        "\n",
        "**Output:** The number of 1 peso, 25 cents, 10 cents, 5 cents and 1 cent coins respectively. There should be one output per line.\n",
        "\n",
        "**Sample Input 1:**  \n",
        "105\n",
        "\n",
        "**Sample Output 1**  \n",
        "1  \n",
        "0  \n",
        "0  \n",
        "1  \n",
        "0  \n",
        "\n",
        "**Sample Input 2:**  \n",
        "69  \n",
        "\n",
        "**Sample Output 2:**  \n",
        "0  \n",
        "2  \n",
        "1  \n",
        "1  \n",
        "4  \n",
        "\n",
        "\n"
      ]
    },
    {
      "cell_type": "code",
      "metadata": {
        "id": "i5xlsidbwP-h"
      },
      "source": [
        "def POS_system(cents):\n",
        "  remaining = cents\n",
        "  values = [100, 25, 10, 5, 1]\n",
        "  incoins = []\n",
        "  for i in values:\n",
        "    incoins.append(int(remaining/i))\n",
        "    remaining = remaining % i\n",
        "  \n",
        "  for i in incoins:\n",
        "    print(i)\n",
        "  return\n"
      ],
      "execution_count": 34,
      "outputs": []
    },
    {
      "cell_type": "code",
      "metadata": {
        "colab": {
          "base_uri": "https://localhost:8080/"
        },
        "id": "XIPK2yzl0f62",
        "outputId": "4b596696-9ed4-4bc1-848a-60e5787700e8"
      },
      "source": [
        "POS_system(69)"
      ],
      "execution_count": 35,
      "outputs": [
        {
          "output_type": "stream",
          "text": [
            "0\n",
            "2\n",
            "1\n",
            "1\n",
            "4\n"
          ],
          "name": "stdout"
        }
      ]
    }
  ]
}